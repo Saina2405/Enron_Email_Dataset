{
 "cells": [
  {
   "cell_type": "code",
   "execution_count": 157,
   "metadata": {},
   "outputs": [],
   "source": [
    "import numpy as np\n",
    "import pandas as pd\n",
    "from pathlib import Path\n",
    "\n",
    "# NLP\n",
    "from nltk.tokenize.regexp import RegexpTokenizer\n",
    "\n",
    "from subprocess import check_output\n",
    "\n",
    "from sklearn.feature_extraction.text import TfidfVectorizer,CountVectorizer\n",
    "from sklearn.cluster import KMeans\n",
    "from sklearn.decomposition import PCA\n",
    "from sklearn.discriminant_analysis import LinearDiscriminantAnalysis as LDA\n",
    "from sklearn.decomposition import LatentDirichletAllocation\n",
    "\n",
    "import gensim\n",
    "from gensim import corpora\n",
    "from nltk.corpus import stopwords \n",
    "from nltk.stem.wordnet import WordNetLemmatizer\n",
    "from nltk.stem.porter import PorterStemmer\n",
    "\n",
    "import string\n",
    "import re\n",
    "import matplotlib.pyplot as plt"
   ]
  },
  {
   "cell_type": "code",
   "execution_count": 158,
   "metadata": {},
   "outputs": [
    {
     "name": "stdout",
     "output_type": "stream",
     "text": [
      "(1961, 8)\n"
     ]
    },
    {
     "data": {
      "text/html": [
       "<div>\n",
       "<style scoped>\n",
       "    .dataframe tbody tr th:only-of-type {\n",
       "        vertical-align: middle;\n",
       "    }\n",
       "\n",
       "    .dataframe tbody tr th {\n",
       "        vertical-align: top;\n",
       "    }\n",
       "\n",
       "    .dataframe thead th {\n",
       "        text-align: right;\n",
       "    }\n",
       "</style>\n",
       "<table border=\"1\" class=\"dataframe\">\n",
       "  <thead>\n",
       "    <tr style=\"text-align: right;\">\n",
       "      <th></th>\n",
       "      <th>Unnamed: 0</th>\n",
       "      <th>id_mail</th>\n",
       "      <th>date</th>\n",
       "      <th>from</th>\n",
       "      <th>to</th>\n",
       "      <th>subject</th>\n",
       "      <th>body</th>\n",
       "      <th>x_origin</th>\n",
       "    </tr>\n",
       "  </thead>\n",
       "  <tbody>\n",
       "    <tr>\n",
       "      <th>0</th>\n",
       "      <td>0</td>\n",
       "      <td>&lt;24597416.1075840072483.JavaMail.evans@thyme&gt;</td>\n",
       "      <td>Fri, 28 Jul 2000 07:02:00 -0700 (PDT)</td>\n",
       "      <td>bill.haack@haack.com</td>\n",
       "      <td>jeff.skilling@enron.com</td>\n",
       "      <td>FW: YPO Area conference dates</td>\n",
       "      <td>Obviously, these dates are for year 2001!\\n\\n&gt;...</td>\n",
       "      <td>SKILLING-J</td>\n",
       "    </tr>\n",
       "  </tbody>\n",
       "</table>\n",
       "</div>"
      ],
      "text/plain": [
       "   Unnamed: 0                                        id_mail  \\\n",
       "0           0  <24597416.1075840072483.JavaMail.evans@thyme>   \n",
       "\n",
       "                                    date                  from  \\\n",
       "0  Fri, 28 Jul 2000 07:02:00 -0700 (PDT)  bill.haack@haack.com   \n",
       "\n",
       "                        to                        subject  \\\n",
       "0  jeff.skilling@enron.com  FW: YPO Area conference dates   \n",
       "\n",
       "                                                body    x_origin  \n",
       "0  Obviously, these dates are for year 2001!\\n\\n>...  SKILLING-J  "
      ]
     },
     "execution_count": 158,
     "metadata": {},
     "output_type": "execute_result"
    }
   ],
   "source": [
    "emails_df = pd.read_csv('data/v1.csv')\n",
    "print(emails_df.shape)\n",
    "emails_df.head(1)"
   ]
  },
  {
   "cell_type": "code",
   "execution_count": 159,
   "metadata": {},
   "outputs": [
    {
     "data": {
      "text/plain": [
       "Unnamed: 0     int64\n",
       "date          object\n",
       "from          object\n",
       "to            object\n",
       "subject       object\n",
       "body          object\n",
       "x_origin      object\n",
       "dtype: object"
      ]
     },
     "execution_count": 159,
     "metadata": {},
     "output_type": "execute_result"
    }
   ],
   "source": [
    "emails_df = emails_df.set_index('id_mail')\n",
    "emails_df['date'] = pd.to_datetime(emails_df['date'], infer_datetime_format=True)\n",
    "emails_df.dtypes"
   ]
  },
  {
   "cell_type": "code",
   "execution_count": 160,
   "metadata": {},
   "outputs": [
    {
     "data": {
      "text/html": [
       "<div>\n",
       "<style scoped>\n",
       "    .dataframe tbody tr th:only-of-type {\n",
       "        vertical-align: middle;\n",
       "    }\n",
       "\n",
       "    .dataframe tbody tr th {\n",
       "        vertical-align: top;\n",
       "    }\n",
       "\n",
       "    .dataframe thead th {\n",
       "        text-align: right;\n",
       "    }\n",
       "</style>\n",
       "<table border=\"1\" class=\"dataframe\">\n",
       "  <thead>\n",
       "    <tr style=\"text-align: right;\">\n",
       "      <th></th>\n",
       "      <th>Unnamed: 0</th>\n",
       "      <th>date</th>\n",
       "      <th>from</th>\n",
       "      <th>to</th>\n",
       "      <th>subject</th>\n",
       "      <th>body</th>\n",
       "      <th>x_origin</th>\n",
       "    </tr>\n",
       "    <tr>\n",
       "      <th>id_mail</th>\n",
       "      <th></th>\n",
       "      <th></th>\n",
       "      <th></th>\n",
       "      <th></th>\n",
       "      <th></th>\n",
       "      <th></th>\n",
       "      <th></th>\n",
       "    </tr>\n",
       "  </thead>\n",
       "  <tbody>\n",
       "    <tr>\n",
       "      <th>&lt;24597416.1075840072483.JavaMail.evans@thyme&gt;</th>\n",
       "      <td>0</td>\n",
       "      <td>2000-07-28 07:02:00-07:00</td>\n",
       "      <td>bill.haack@haack.com</td>\n",
       "      <td>jeff.skilling@enron.com</td>\n",
       "      <td>FW: YPO Area conference dates</td>\n",
       "      <td>Obviously, these dates are for year 2001!\\n\\n&gt;...</td>\n",
       "      <td>SKILLING-J</td>\n",
       "    </tr>\n",
       "  </tbody>\n",
       "</table>\n",
       "</div>"
      ],
      "text/plain": [
       "                                               Unnamed: 0  \\\n",
       "id_mail                                                     \n",
       "<24597416.1075840072483.JavaMail.evans@thyme>           0   \n",
       "\n",
       "                                                                    date  \\\n",
       "id_mail                                                                    \n",
       "<24597416.1075840072483.JavaMail.evans@thyme>  2000-07-28 07:02:00-07:00   \n",
       "\n",
       "                                                               from  \\\n",
       "id_mail                                                               \n",
       "<24597416.1075840072483.JavaMail.evans@thyme>  bill.haack@haack.com   \n",
       "\n",
       "                                                                    to  \\\n",
       "id_mail                                                                  \n",
       "<24597416.1075840072483.JavaMail.evans@thyme>  jeff.skilling@enron.com   \n",
       "\n",
       "                                                                     subject  \\\n",
       "id_mail                                                                        \n",
       "<24597416.1075840072483.JavaMail.evans@thyme>  FW: YPO Area conference dates   \n",
       "\n",
       "                                                                                            body  \\\n",
       "id_mail                                                                                            \n",
       "<24597416.1075840072483.JavaMail.evans@thyme>  Obviously, these dates are for year 2001!\\n\\n>...   \n",
       "\n",
       "                                                 x_origin  \n",
       "id_mail                                                    \n",
       "<24597416.1075840072483.JavaMail.evans@thyme>  SKILLING-J  "
      ]
     },
     "execution_count": 160,
     "metadata": {},
     "output_type": "execute_result"
    }
   ],
   "source": [
    "emails_df.head(1)"
   ]
  },
  {
   "cell_type": "code",
   "execution_count": 161,
   "metadata": {},
   "outputs": [],
   "source": [
    "def clean(text):\n",
    "    stop = set(stopwords.words('english'))\n",
    "    stop.update((\"to\",\"cc\",\"subject\",\"http\",\"from\",\"sent\",\"aaaaaaaaaaaaaaaaaaaaaaaaaaaaaaaaaaaaaaaaaaaaaaaaaaaaaaaaaaaaaaaaaaaaaaaaaaaa\"))\n",
    "    exclude = set(string.punctuation) \n",
    "    lemma = WordNetLemmatizer()\n",
    "    porter= PorterStemmer()\n",
    "    \n",
    "    text=text.rstrip()\n",
    "    text = re.sub(r'[^a-zA-Z]', ' ', text)\n",
    "    stop_free = \" \".join([i for i in text.lower().split() if((i not in stop) and (not i.isdigit()))])\n",
    "    punc_free = ''.join(ch for ch in stop_free if ch not in exclude)\n",
    "    normalized = \" \".join(lemma.lemmatize(word) for word in punc_free.split())\n",
    "    \n",
    "    return normalized"
   ]
  },
  {
   "cell_type": "code",
   "execution_count": 162,
   "metadata": {},
   "outputs": [],
   "source": [
    "analysis_df=emails_df[['from', 'to', 'date','body']].dropna().copy()\n",
    "# analysis_df = analysis_df.loc[analysis_df['to'].map(len) == 1]\n",
    "# sub_df=analysis_df.sample(1000)"
   ]
  },
  {
   "cell_type": "code",
   "execution_count": 163,
   "metadata": {},
   "outputs": [
    {
     "data": {
      "text/html": [
       "<div>\n",
       "<style scoped>\n",
       "    .dataframe tbody tr th:only-of-type {\n",
       "        vertical-align: middle;\n",
       "    }\n",
       "\n",
       "    .dataframe tbody tr th {\n",
       "        vertical-align: top;\n",
       "    }\n",
       "\n",
       "    .dataframe thead th {\n",
       "        text-align: right;\n",
       "    }\n",
       "</style>\n",
       "<table border=\"1\" class=\"dataframe\">\n",
       "  <thead>\n",
       "    <tr style=\"text-align: right;\">\n",
       "      <th></th>\n",
       "      <th>from</th>\n",
       "      <th>to</th>\n",
       "      <th>date</th>\n",
       "      <th>body</th>\n",
       "    </tr>\n",
       "    <tr>\n",
       "      <th>id_mail</th>\n",
       "      <th></th>\n",
       "      <th></th>\n",
       "      <th></th>\n",
       "      <th></th>\n",
       "    </tr>\n",
       "  </thead>\n",
       "  <tbody>\n",
       "    <tr>\n",
       "      <th>&lt;24597416.1075840072483.JavaMail.evans@thyme&gt;</th>\n",
       "      <td>bill.haack@haack.com</td>\n",
       "      <td>jeff.skilling@enron.com</td>\n",
       "      <td>2000-07-28 07:02:00-07:00</td>\n",
       "      <td>Obviously, these dates are for year 2001!\\n\\n&gt;...</td>\n",
       "    </tr>\n",
       "  </tbody>\n",
       "</table>\n",
       "</div>"
      ],
      "text/plain": [
       "                                                               from  \\\n",
       "id_mail                                                               \n",
       "<24597416.1075840072483.JavaMail.evans@thyme>  bill.haack@haack.com   \n",
       "\n",
       "                                                                    to  \\\n",
       "id_mail                                                                  \n",
       "<24597416.1075840072483.JavaMail.evans@thyme>  jeff.skilling@enron.com   \n",
       "\n",
       "                                                                    date  \\\n",
       "id_mail                                                                    \n",
       "<24597416.1075840072483.JavaMail.evans@thyme>  2000-07-28 07:02:00-07:00   \n",
       "\n",
       "                                                                                            body  \n",
       "id_mail                                                                                           \n",
       "<24597416.1075840072483.JavaMail.evans@thyme>  Obviously, these dates are for year 2001!\\n\\n>...  "
      ]
     },
     "execution_count": 163,
     "metadata": {},
     "output_type": "execute_result"
    }
   ],
   "source": [
    "analysis_df.head(1)"
   ]
  },
  {
   "cell_type": "code",
   "execution_count": 164,
   "metadata": {},
   "outputs": [],
   "source": [
    "text_clean=[]\n",
    "for text in analysis_df['body']:\n",
    "    text_clean.append(clean(text).split())"
   ]
  },
  {
   "cell_type": "markdown",
   "metadata": {},
   "source": [
    "# document matrix"
   ]
  },
  {
   "cell_type": "code",
   "execution_count": 165,
   "metadata": {},
   "outputs": [],
   "source": [
    "dictionary = corpora.Dictionary(text_clean)\n",
    "text_term_matrix = [dictionary.doc2bow(text) for text in text_clean]"
   ]
  },
  {
   "cell_type": "markdown",
   "metadata": {},
   "source": [
    "## LDA"
   ]
  },
  {
   "cell_type": "code",
   "execution_count": 166,
   "metadata": {},
   "outputs": [],
   "source": [
    "Lda = gensim.models.ldamodel.LdaModel\n",
    "ldamodel = Lda(text_term_matrix, num_topics=5, id2word = dictionary, passes=30)"
   ]
  },
  {
   "cell_type": "code",
   "execution_count": 179,
   "metadata": {},
   "outputs": [],
   "source": [
    "eng_stopwords = set(stopwords.words('english'))\n",
    "my_stopwords = eng_stopwords.union(['ect', 'hou', 'com', 'recipient', 'sent', 'enron', 'cc', 'subject',\\\n",
    "                                         'forwarded', 'corp', 'said', 'attached', 'ect',\\\n",
    "                                         'recipient', 'email', 'original', 'doc', 'pm', 'mail', 'message', 'new'\\\n",
    "                                         'enronxgate', 'na', 'year','please'])"
   ]
  },
  {
   "cell_type": "code",
   "execution_count": 180,
   "metadata": {},
   "outputs": [],
   "source": [
    "def clean_text(text):\n",
    "    text = re.sub(r'[^a-zA-Z]', ' ', text)\n",
    "    words = text.lower().split()\n",
    "    words = [w for w in words if w not in my_stopwords]\n",
    "    words = [w for w in words if len(w) > 3]\n",
    "    return ' '.join(words)\n",
    "\n",
    "analysis_df[\"clean_content\"]=analysis_df.body.apply(clean_text)"
   ]
  },
  {
   "cell_type": "code",
   "execution_count": 171,
   "metadata": {},
   "outputs": [],
   "source": [
    "wordvector = TfidfVectorizer(analyzer='word', stop_words='english', max_df=0.4, min_df=5)\n",
    "short_analysis=analysis_df.sample(1000)\n",
    "wordvector_fit = wordvector.fit_transform(short_analysis.clean_content)\n",
    "feature = wordvector.get_feature_names_out()"
   ]
  },
  {
   "cell_type": "markdown",
   "metadata": {},
   "source": [
    "# inspect LDA model"
   ]
  },
  {
   "cell_type": "code",
   "execution_count": 178,
   "metadata": {},
   "outputs": [
    {
     "name": "stdout",
     "output_type": "stream",
     "text": [
      "[(0, '0.007*\"one\" + 0.006*\"get\" + 0.005*\"com\" + 0.005*\"time\" + 0.004*\"like\" + 0.004*\"mark\" + 0.004*\"would\" + 0.004*\"year\" + 0.004*\"know\" + 0.003*\"day\"'), (1, '0.020*\"enron\" + 0.014*\"jeff\" + 0.011*\"would\" + 0.010*\"com\" + 0.009*\"please\" + 0.008*\"skilling\" + 0.008*\"meeting\" + 0.007*\"know\" + 0.006*\"time\" + 0.006*\"mr\"'), (2, '0.007*\"e\" + 0.007*\"www\" + 0.006*\"energy\" + 0.006*\"business\" + 0.006*\"new\" + 0.005*\"market\" + 0.005*\"u\" + 0.005*\"enron\" + 0.005*\"service\" + 0.004*\"company\"'), (3, '0.054*\"com\" + 0.008*\"compaq\" + 0.008*\"net\" + 0.008*\"e\" + 0.005*\"aol\" + 0.005*\"mail\" + 0.005*\"report\" + 0.004*\"beta\" + 0.004*\"please\" + 0.004*\"c\"'), (4, '0.127*\"enron\" + 0.040*\"ect\" + 0.025*\"development\" + 0.024*\"corp\" + 0.024*\"hou\" + 0.016*\"communication\" + 0.015*\"ee\" + 0.006*\"na\" + 0.006*\"mark\" + 0.005*\"pm\"')]\n"
     ]
    }
   ],
   "source": [
    "print(ldamodel.show_topics())"
   ]
  },
  {
   "cell_type": "code",
   "execution_count": 175,
   "metadata": {},
   "outputs": [
    {
     "name": "stdout",
     "output_type": "stream",
     "text": [
      "5\n"
     ]
    }
   ],
   "source": [
    "print(ldamodel.num_topics)"
   ]
  },
  {
   "cell_type": "code",
   "execution_count": 176,
   "metadata": {},
   "outputs": [
    {
     "data": {
      "text/plain": [
       "array([[2.5627576e-04, 2.7355782e-05, 8.6010230e-04, ..., 4.3446516e-06,\n",
       "        4.3423865e-06, 4.3446503e-06],\n",
       "       [1.0908883e-03, 1.3588356e-04, 7.8644045e-04, ..., 2.2456359e-06,\n",
       "        2.2456602e-06, 2.2456325e-06],\n",
       "       [5.1484240e-04, 2.0238965e-06, 1.0784013e-03, ..., 2.0211585e-06,\n",
       "        2.0212456e-06, 2.0211960e-06],\n",
       "       [1.3274253e-04, 4.4158933e-06, 1.9225910e-04, ..., 4.1601975e-06,\n",
       "        4.1604058e-06, 4.1600556e-06],\n",
       "       [2.7900614e-04, 5.2652072e-06, 5.6445710e-06, ..., 3.1280717e-05,\n",
       "        5.7549023e-05, 3.1280826e-05]], dtype=float32)"
      ]
     },
     "execution_count": 176,
     "metadata": {},
     "output_type": "execute_result"
    }
   ],
   "source": [
    "ldamodel.get_topics()"
   ]
  },
  {
   "cell_type": "markdown",
   "metadata": {},
   "source": [
    "# >>>>>>>>>>>>>>>>IGNORE"
   ]
  },
  {
   "cell_type": "markdown",
   "metadata": {},
   "source": [
    "# K-mean"
   ]
  },
  {
   "cell_type": "code",
   "execution_count": 90,
   "metadata": {},
   "outputs": [],
   "source": [
    "N = 10\n",
    "clf = KMeans(n_clusters=N, \n",
    "            max_iter=50, \n",
    "            init='k-means++', \n",
    "            n_init=1)\n",
    "labels = clf.fit_predict(wordvector_fit)"
   ]
  },
  {
   "cell_type": "code",
   "execution_count": 66,
   "metadata": {},
   "outputs": [
    {
     "name": "stderr",
     "output_type": "stream",
     "text": [
      "/Users/hsinhan/PycharmProjects/Enron_Email_Usecase/venv/lib/python3.9/site-packages/sklearn/utils/validation.py:593: FutureWarning: np.matrix usage is deprecated in 1.0 and will raise a TypeError in 1.2. Please convert to a numpy array with np.asarray. For more information see: https://numpy.org/doc/stable/reference/generated/numpy.matrix.html\n",
      "  warnings.warn(\n",
      "/Users/hsinhan/PycharmProjects/Enron_Email_Usecase/venv/lib/python3.9/site-packages/sklearn/utils/validation.py:593: FutureWarning: np.matrix usage is deprecated in 1.0 and will raise a TypeError in 1.2. Please convert to a numpy array with np.asarray. For more information see: https://numpy.org/doc/stable/reference/generated/numpy.matrix.html\n",
      "  warnings.warn(\n"
     ]
    }
   ],
   "source": [
    "wordvector_fit_2d = wordvector_fit.todense()\n",
    "pca = PCA(n_components=2).fit(wordvector_fit_2d)\n",
    "datapoint = pca.transform(wordvector_fit_2d)"
   ]
  },
  {
   "cell_type": "code",
   "execution_count": 69,
   "metadata": {},
   "outputs": [
    {
     "data": {
      "image/png": "[encoded data removed]",
      "text/plain": [
       "<Figure size 432x288 with 1 Axes>"
      ]
     },
     "metadata": {
      "needs_background": "light"
     },
     "output_type": "display_data"
    }
   ],
   "source": [
    "label = [\"#e05f14\", \"#e0dc14\", \"#2fe014\", \"#14d2e0\"]\n",
    "color = [label[i] for i in labels]\n",
    "plt.scatter(datapoint[:, 0], datapoint[:, 1], c=color)\n",
    "\n",
    "centroids = clf.cluster_centers_\n",
    "centroidpoint = pca.transform(centroids)\n",
    "plt.scatter(centroidpoint[:, 0], centroidpoint[:, 1], marker='^', s=150, c='#000000')\n",
    "plt.show()"
   ]
  },
  {
   "cell_type": "code",
   "execution_count": null,
   "metadata": {},
   "outputs": [],
   "source": []
  }
 ],
 "metadata": {
  "interpreter": {
   "hash": "cc3f249eb8269fe0400e72a0f427e175b24dd81fbe32ee1422536ef70707752a"
  },
  "kernelspec": {
   "display_name": "Python 3.9.10 ('venv': venv)",
   "language": "python",
   "name": "python3"
  },
  "language_info": {
   "codemirror_mode": {
    "name": "ipython",
    "version": 3
   },
   "file_extension": ".py",
   "mimetype": "text/x-python",
   "name": "python",
   "nbconvert_exporter": "python",
   "pygments_lexer": "ipython3",
   "version": "3.9.10"
  },
  "orig_nbformat": 4
 },
 "nbformat": 4,
 "nbformat_minor": 2
}
