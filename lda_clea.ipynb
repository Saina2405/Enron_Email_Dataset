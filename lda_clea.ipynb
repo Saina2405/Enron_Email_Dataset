{
 "cells": [
  {
   "cell_type": "code",
   "execution_count": 27,
   "metadata": {},
   "outputs": [],
   "source": [
    "import pandas as pd\n",
    "import seaborn as sns\n",
    "\n",
    "sns.set() \n",
    "\n",
    "import logging\n",
    "import warnings\n",
    "\n",
    "# Gensim\n",
    "import gensim\n",
    "import gensim.corpora as corpora\n",
    "\n",
    "# Display setting to show more characters in column\n",
    "pd.set_option('display.max_columns', 500)\n",
    "\n",
    "%matplotlib inline\n",
    "warnings.filterwarnings(\"ignore\",category=DeprecationWarning)\n",
    "logging.basicConfig(format='%(asctime)s : %(levelname)s : %(message)s', level=logging.ERROR)\n",
    "\n",
    "from nltk.corpus import stopwords\n",
    "\n",
    "stop_words = stopwords.words('english')\n",
    "stop_words.extend(['from', 'subject', 're', 'edu', 'use', 'not', 'would', 'say', 'could', '_', 'be', 'know', 'good', 'go', 'get', 'do', 'done', 'try', 'many', 'some', 'nice', 'thank', 'think', 'see', 'rather', 'easy', 'easily', 'lot', 'lack', 'make', 'want', 'seem', 'run', 'need', 'even', 'right', 'line', 'even', 'also', 'may', 'take', 'come', 'com', 'http', 'mail', 'pm'])\n",
    "\n",
    "import pickle\n",
    "import pyLDAvis\n",
    "import pyLDAvis.gensim_models"
   ]
  },
  {
   "cell_type": "markdown",
   "metadata": {},
   "source": [
    "### Load data"
   ]
  },
  {
   "cell_type": "code",
   "execution_count": 28,
   "metadata": {},
   "outputs": [],
   "source": [
    "data_ready = pickle.load( open( \"data/clean_words_sample.pickle\", \"rb\" ) )"
   ]
  },
  {
   "cell_type": "markdown",
   "metadata": {},
   "source": [
    "### LDA"
   ]
  },
  {
   "cell_type": "code",
   "execution_count": 29,
   "metadata": {},
   "outputs": [
    {
     "name": "stdout",
     "output_type": "stream",
     "text": [
      "[(0, '0.010*\"amazon\" + 0.009*\"schedule\" + 0.006*\"message\" + 0.006*\"feedback\" + 0.005*\"order\" + 0.005*\"list\" + 0.005*\"offer\" + 0.005*\"final\" + 0.005*\"click\" + 0.005*\"training\"'), (1, '0.006*\"rule\" + 0.005*\"standard\" + 0.005*\"gisb\" + 0.005*\"transaction\" + 0.005*\"member\" + 0.005*\"service\" + 0.004*\"change\" + 0.004*\"rto\" + 0.004*\"reliability\" + 0.004*\"program\"'), (2, '0.015*\"customer\" + 0.011*\"market\" + 0.011*\"margin\" + 0.011*\"credit\" + 0.009*\"letter\" + 0.009*\"day\" + 0.008*\"value\" + 0.008*\"issue\" + 0.007*\"price\" + 0.006*\"security\"'), (3, '0.014*\"stock\" + 0.012*\"company\" + 0.009*\"market\" + 0.009*\"year\" + 0.008*\"price\" + 0.006*\"energy\" + 0.006*\"percent\" + 0.005*\"share\" + 0.005*\"investor\" + 0.005*\"business\"'), (4, '0.127*\"font\" + 0.074*\"size\" + 0.039*\"align\" + 0.026*\"br\" + 0.023*\"nbsp\" + 0.021*\"tr\" + 0.010*\"name\" + 0.009*\"venturewire\" + 0.007*\"gif_border\" + 0.007*\"color\"')]\n"
     ]
    }
   ],
   "source": [
    "# Create Dictionary\n",
    "id2word = corpora.Dictionary(data_ready)\n",
    "\n",
    "# Create Corpus: Term Document Frequency\n",
    "corpus = [id2word.doc2bow(text) for text in data_ready]\n",
    "\n",
    "# Build LDA model\n",
    "lda_model = gensim.models.ldamodel.LdaModel(\n",
    "    corpus=corpus,\n",
    "    id2word=id2word,\n",
    "    num_topics=5,\n",
    "    random_state=100,\n",
    "    update_every=1,\n",
    "    chunksize=100,\n",
    "    passes=60,\n",
    "    alpha=\"auto\",\n",
    "    iterations=100,\n",
    "    per_word_topics=True,\n",
    ")\n",
    "\n",
    "print(lda_model.print_topics())\n"
   ]
  },
  {
   "cell_type": "code",
   "execution_count": 30,
   "metadata": {},
   "outputs": [],
   "source": [
    "pickle.dump(lda_model, open(\"data/lda_model_sample.pickle\", \"wb\"))"
   ]
  },
  {
   "cell_type": "markdown",
   "metadata": {},
   "source": [
    "# Topic\n"
   ]
  },
  {
   "cell_type": "code",
   "execution_count": 60,
   "metadata": {},
   "outputs": [],
   "source": [
    "data = pickle.load( open( \"data/data_sample.pickle\", \"rb\" ) )\n",
    "lda_model = pickle.load( open( \"data/lda_model_sample.pickle\", \"rb\" ) )\n"
   ]
  },
  {
   "cell_type": "code",
   "execution_count": 62,
   "metadata": {},
   "outputs": [],
   "source": [
    "def format_topics_sentences(ldamodel=None, corpus=corpus, texts=data):\n",
    "    sent_topics_df = pd.DataFrame()\n",
    "\n",
    "    for i, row_list in enumerate(ldamodel[corpus]):\n",
    "        row = row_list[0] if ldamodel.per_word_topics else row_list\n",
    "        row = sorted(row, key=lambda x: (x[1]), reverse=True)\n",
    "        # Get the Dominant topic, Perc Contribution and Keywords for each document\n",
    "        for j, (topic_num, prop_topic) in enumerate(row):\n",
    "            if j == 0:  # => dominant topic\n",
    "                wp = ldamodel.show_topic(topic_num)\n",
    "                topic_keywords = \", \".join([word for word, prop in wp])\n",
    "                sent_topics_df = sent_topics_df.append(\n",
    "                    pd.Series([int(topic_num), round(prop_topic, 4), topic_keywords]),\n",
    "                    ignore_index=True,\n",
    "                )\n",
    "            else:\n",
    "                break\n",
    "    sent_topics_df.columns = [\"Dominant_Topic\", \"Perc_Contribution\", \"Topic_Keywords\"]\n",
    "\n",
    "    contents = pd.Series(texts)\n",
    "    sent_topics_df = pd.concat([sent_topics_df, contents], axis=1)\n",
    "    return sent_topics_df\n"
   ]
  },
  {
   "cell_type": "code",
   "execution_count": 63,
   "metadata": {},
   "outputs": [
    {
     "name": "stderr",
     "output_type": "stream",
     "text": [
      "/var/folders/f_/lq61lr8515sdgzbg0slfc_5c0000gn/T/ipykernel_27353/2689881985.py:12: FutureWarning: The frame.append method is deprecated and will be removed from pandas in a future version. Use pandas.concat instead.\n",
      "  sent_topics_df = sent_topics_df.append(\n",
      "/var/folders/f_/lq61lr8515sdgzbg0slfc_5c0000gn/T/ipykernel_27353/2689881985.py:12: FutureWarning: The frame.append method is deprecated and will be removed from pandas in a future version. Use pandas.concat instead.\n",
      "  sent_topics_df = sent_topics_df.append(\n"
     ]
    },
    {
     "data": {
      "text/html": [
       "<div>\n",
       "<style scoped>\n",
       "    .dataframe tbody tr th:only-of-type {\n",
       "        vertical-align: middle;\n",
       "    }\n",
       "\n",
       "    .dataframe tbody tr th {\n",
       "        vertical-align: top;\n",
       "    }\n",
       "\n",
       "    .dataframe thead th {\n",
       "        text-align: right;\n",
       "    }\n",
       "</style>\n",
       "<table border=\"1\" class=\"dataframe\">\n",
       "  <thead>\n",
       "    <tr style=\"text-align: right;\">\n",
       "      <th></th>\n",
       "      <th>Document_No</th>\n",
       "      <th>Dominant_Topic</th>\n",
       "      <th>Topic_Perc_Contrib</th>\n",
       "      <th>Keywords</th>\n",
       "      <th>Text</th>\n",
       "    </tr>\n",
       "  </thead>\n",
       "  <tbody>\n",
       "    <tr>\n",
       "      <th>0</th>\n",
       "      <td>0</td>\n",
       "      <td>4</td>\n",
       "      <td>0.9999</td>\n",
       "      <td>font, size, align, br, nbsp, tr, name, venture...</td>\n",
       "      <td>[title, gas, index, title, body, align, center...</td>\n",
       "    </tr>\n",
       "    <tr>\n",
       "      <th>1</th>\n",
       "      <td>1</td>\n",
       "      <td>0</td>\n",
       "      <td>0.9973</td>\n",
       "      <td>amazon, schedule, message, feedback, order, li...</td>\n",
       "      <td>[start, date, hourahead, hour, ancillary, sche...</td>\n",
       "    </tr>\n",
       "  </tbody>\n",
       "</table>\n",
       "</div>"
      ],
      "text/plain": [
       "   Document_No  Dominant_Topic  Topic_Perc_Contrib  \\\n",
       "0            0               4              0.9999   \n",
       "1            1               0              0.9973   \n",
       "\n",
       "                                            Keywords  \\\n",
       "0  font, size, align, br, nbsp, tr, name, venture...   \n",
       "1  amazon, schedule, message, feedback, order, li...   \n",
       "\n",
       "                                                Text  \n",
       "0  [title, gas, index, title, body, align, center...  \n",
       "1  [start, date, hourahead, hour, ancillary, sche...  "
      ]
     },
     "execution_count": 63,
     "metadata": {},
     "output_type": "execute_result"
    }
   ],
   "source": [
    "df_topic_sents_keywords = format_topics_sentences(\n",
    "    ldamodel=lda_model, corpus=corpus, texts=data_ready\n",
    ")\n",
    "\n",
    "# Format\n",
    "df_dominant_topic = df_topic_sents_keywords.reset_index()\n",
    "df_dominant_topic.columns = [\n",
    "    \"Document_No\",\n",
    "    \"Dominant_Topic\",\n",
    "    \"Topic_Perc_Contrib\",\n",
    "    \"Keywords\",\n",
    "    \"Text\",\n",
    "]\n",
    "df_dominant_topic.head(2)\n"
   ]
  },
  {
   "cell_type": "code",
   "execution_count": 64,
   "metadata": {},
   "outputs": [
    {
     "data": {
      "text/html": [
       "<div>\n",
       "<style scoped>\n",
       "    .dataframe tbody tr th:only-of-type {\n",
       "        vertical-align: middle;\n",
       "    }\n",
       "\n",
       "    .dataframe tbody tr th {\n",
       "        vertical-align: top;\n",
       "    }\n",
       "\n",
       "    .dataframe thead th {\n",
       "        text-align: right;\n",
       "    }\n",
       "</style>\n",
       "<table border=\"1\" class=\"dataframe\">\n",
       "  <thead>\n",
       "    <tr style=\"text-align: right;\">\n",
       "      <th></th>\n",
       "      <th>id_mail</th>\n",
       "      <th>date</th>\n",
       "      <th>from</th>\n",
       "      <th>to</th>\n",
       "      <th>subject</th>\n",
       "      <th>body</th>\n",
       "      <th>x_origin</th>\n",
       "    </tr>\n",
       "  </thead>\n",
       "  <tbody>\n",
       "    <tr>\n",
       "      <th>0</th>\n",
       "      <td>&lt;11784386.1075862626536.JavaMail.evans@thyme&gt;</td>\n",
       "      <td>2001-11-19 10:00:05-08:00</td>\n",
       "      <td>feedback@intcx.com</td>\n",
       "      <td>gasindex@list.intcx.com</td>\n",
       "      <td>Gas Indices</td>\n",
       "      <td>\\n                                            ...</td>\n",
       "      <td>Bass-E</td>\n",
       "    </tr>\n",
       "    <tr>\n",
       "      <th>1</th>\n",
       "      <td>&lt;23529076.1075841026944.JavaMail.evans@thyme&gt;</td>\n",
       "      <td>2001-04-07 02:41:00-07:00</td>\n",
       "      <td>pete.davis@enron.com</td>\n",
       "      <td>pete.davis@enron.com</td>\n",
       "      <td>Start Date: 4/7/01; HourAhead hour: 10;  &lt;CODE...</td>\n",
       "      <td>Start Date: 4/7/01; HourAhead hour: 10;  No an...</td>\n",
       "      <td>LINDER-E</td>\n",
       "    </tr>\n",
       "  </tbody>\n",
       "</table>\n",
       "</div>"
      ],
      "text/plain": [
       "                                         id_mail                       date  \\\n",
       "0  <11784386.1075862626536.JavaMail.evans@thyme>  2001-11-19 10:00:05-08:00   \n",
       "1  <23529076.1075841026944.JavaMail.evans@thyme>  2001-04-07 02:41:00-07:00   \n",
       "\n",
       "                   from                       to  \\\n",
       "0    feedback@intcx.com  gasindex@list.intcx.com   \n",
       "1  pete.davis@enron.com     pete.davis@enron.com   \n",
       "\n",
       "                                             subject  \\\n",
       "0                                        Gas Indices   \n",
       "1  Start Date: 4/7/01; HourAhead hour: 10;  <CODE...   \n",
       "\n",
       "                                                body  x_origin  \n",
       "0  \\n                                            ...    Bass-E  \n",
       "1  Start Date: 4/7/01; HourAhead hour: 10;  No an...  LINDER-E  "
      ]
     },
     "execution_count": 64,
     "metadata": {},
     "output_type": "execute_result"
    }
   ],
   "source": [
    "email_df = pd.read_csv(\"data/sample.csv\")\n",
    "email_df.head(2)"
   ]
  },
  {
   "cell_type": "code",
   "execution_count": 65,
   "metadata": {},
   "outputs": [
    {
     "data": {
      "text/html": [
       "<div>\n",
       "<style scoped>\n",
       "    .dataframe tbody tr th:only-of-type {\n",
       "        vertical-align: middle;\n",
       "    }\n",
       "\n",
       "    .dataframe tbody tr th {\n",
       "        vertical-align: top;\n",
       "    }\n",
       "\n",
       "    .dataframe thead th {\n",
       "        text-align: right;\n",
       "    }\n",
       "</style>\n",
       "<table border=\"1\" class=\"dataframe\">\n",
       "  <thead>\n",
       "    <tr style=\"text-align: right;\">\n",
       "      <th></th>\n",
       "      <th>id_mail</th>\n",
       "      <th>date</th>\n",
       "      <th>from</th>\n",
       "      <th>to</th>\n",
       "      <th>subject</th>\n",
       "      <th>body</th>\n",
       "      <th>x_origin</th>\n",
       "    </tr>\n",
       "  </thead>\n",
       "  <tbody>\n",
       "    <tr>\n",
       "      <th>0</th>\n",
       "      <td>&lt;11784386.1075862626536.JavaMail.evans@thyme&gt;</td>\n",
       "      <td>2001-11-19 10:00:05-08:00</td>\n",
       "      <td>feedback@intcx.com</td>\n",
       "      <td>gasindex@list.intcx.com</td>\n",
       "      <td>Gas Indices</td>\n",
       "      <td>\\n                                            ...</td>\n",
       "      <td>Bass-E</td>\n",
       "    </tr>\n",
       "  </tbody>\n",
       "</table>\n",
       "</div>"
      ],
      "text/plain": [
       "                                         id_mail                       date  \\\n",
       "0  <11784386.1075862626536.JavaMail.evans@thyme>  2001-11-19 10:00:05-08:00   \n",
       "\n",
       "                 from                       to      subject  \\\n",
       "0  feedback@intcx.com  gasindex@list.intcx.com  Gas Indices   \n",
       "\n",
       "                                                body x_origin  \n",
       "0  \\n                                            ...   Bass-E  "
      ]
     },
     "execution_count": 65,
     "metadata": {},
     "output_type": "execute_result"
    }
   ],
   "source": [
    "email_df.head(1)"
   ]
  },
  {
   "cell_type": "code",
   "execution_count": 66,
   "metadata": {},
   "outputs": [
    {
     "data": {
      "text/plain": [
       "(100, 7)"
      ]
     },
     "execution_count": 66,
     "metadata": {},
     "output_type": "execute_result"
    }
   ],
   "source": [
    "email_df.shape"
   ]
  },
  {
   "cell_type": "code",
   "execution_count": 67,
   "metadata": {},
   "outputs": [
    {
     "data": {
      "text/plain": [
       "(100, 5)"
      ]
     },
     "execution_count": 67,
     "metadata": {},
     "output_type": "execute_result"
    }
   ],
   "source": [
    "df_dominant_topic.shape"
   ]
  },
  {
   "cell_type": "code",
   "execution_count": 68,
   "metadata": {},
   "outputs": [],
   "source": [
    "test = pd.concat([email_df, df_dominant_topic], axis=1)"
   ]
  },
  {
   "cell_type": "code",
   "execution_count": 70,
   "metadata": {},
   "outputs": [],
   "source": [
    "test.to_csv(\"data/streamlit_df.csv\", index=False)"
   ]
  },
  {
   "cell_type": "code",
   "execution_count": 18,
   "metadata": {},
   "outputs": [
    {
     "data": {
      "text/html": [
       "<div>\n",
       "<style scoped>\n",
       "    .dataframe tbody tr th:only-of-type {\n",
       "        vertical-align: middle;\n",
       "    }\n",
       "\n",
       "    .dataframe tbody tr th {\n",
       "        vertical-align: top;\n",
       "    }\n",
       "\n",
       "    .dataframe thead th {\n",
       "        text-align: right;\n",
       "    }\n",
       "</style>\n",
       "<table border=\"1\" class=\"dataframe\">\n",
       "  <thead>\n",
       "    <tr style=\"text-align: right;\">\n",
       "      <th></th>\n",
       "      <th>Topic_Num</th>\n",
       "      <th>Topic_Perc_Contrib</th>\n",
       "      <th>Keywords</th>\n",
       "      <th>Representative Text</th>\n",
       "    </tr>\n",
       "  </thead>\n",
       "  <tbody>\n",
       "    <tr>\n",
       "      <th>0</th>\n",
       "      <td>0</td>\n",
       "      <td>0.9998</td>\n",
       "      <td>way, request, meeting, schedule, fare, call, c...</td>\n",
       "      <td>[click_save, update, freedom, travel, week, in...</td>\n",
       "    </tr>\n",
       "    <tr>\n",
       "      <th>1</th>\n",
       "      <td>1</td>\n",
       "      <td>0.9992</td>\n",
       "      <td>deal, sell, send, information, find, time, fol...</td>\n",
       "      <td>[shawn, donlin, fw, performance, confirm, emai...</td>\n",
       "    </tr>\n",
       "    <tr>\n",
       "      <th>2</th>\n",
       "      <td>2</td>\n",
       "      <td>0.9994</td>\n",
       "      <td>xms, time, price, send, conference, report, va...</td>\n",
       "      <td>[freak, gas, price, kill, way, high, price, pr...</td>\n",
       "    </tr>\n",
       "    <tr>\n",
       "      <th>3</th>\n",
       "      <td>3</td>\n",
       "      <td>0.9999</td>\n",
       "      <td>session, week, end, order, contract, trading, ...</td>\n",
       "      <td>[member, member, firm, executive, session, rul...</td>\n",
       "    </tr>\n",
       "    <tr>\n",
       "      <th>4</th>\n",
       "      <td>4</td>\n",
       "      <td>0.9999</td>\n",
       "      <td>account, time, financial, access, check, inves...</td>\n",
       "      <td>[edition, banking, essential, investment, acco...</td>\n",
       "    </tr>\n",
       "  </tbody>\n",
       "</table>\n",
       "</div>"
      ],
      "text/plain": [
       "   Topic_Num  Topic_Perc_Contrib  \\\n",
       "0          0              0.9998   \n",
       "1          1              0.9992   \n",
       "2          2              0.9994   \n",
       "3          3              0.9999   \n",
       "4          4              0.9999   \n",
       "\n",
       "                                            Keywords  \\\n",
       "0  way, request, meeting, schedule, fare, call, c...   \n",
       "1  deal, sell, send, information, find, time, fol...   \n",
       "2  xms, time, price, send, conference, report, va...   \n",
       "3  session, week, end, order, contract, trading, ...   \n",
       "4  account, time, financial, access, check, inves...   \n",
       "\n",
       "                                 Representative Text  \n",
       "0  [click_save, update, freedom, travel, week, in...  \n",
       "1  [shawn, donlin, fw, performance, confirm, emai...  \n",
       "2  [freak, gas, price, kill, way, high, price, pr...  \n",
       "3  [member, member, firm, executive, session, rul...  \n",
       "4  [edition, banking, essential, investment, acco...  "
      ]
     },
     "execution_count": 18,
     "metadata": {},
     "output_type": "execute_result"
    }
   ],
   "source": [
    "sent_topics_sorteddf_mallet = pd.DataFrame()\n",
    "sent_topics_outdf_grpd = df_topic_sents_keywords.groupby(\"Dominant_Topic\")\n",
    "\n",
    "for i, grp in sent_topics_outdf_grpd:\n",
    "    sent_topics_sorteddf_mallet = pd.concat(\n",
    "        [\n",
    "            sent_topics_sorteddf_mallet,\n",
    "            grp.sort_values([\"Perc_Contribution\"], ascending=False).head(1),\n",
    "        ],\n",
    "        axis=0,\n",
    "    )\n",
    "\n",
    "# Reset Index\n",
    "sent_topics_sorteddf_mallet.reset_index(drop=True, inplace=True)\n",
    "\n",
    "# Format\n",
    "sent_topics_sorteddf_mallet.columns = [\n",
    "    \"Topic_Num\",\n",
    "    \"Topic_Perc_Contrib\",\n",
    "    \"Keywords\",\n",
    "    \"Representative Text\",\n",
    "]\n",
    "\n",
    "# Show\n",
    "sent_topics_sorteddf_mallet.head()\n"
   ]
  },
  {
   "cell_type": "markdown",
   "metadata": {},
   "source": [
    "### combine df"
   ]
  },
  {
   "cell_type": "code",
   "execution_count": 19,
   "metadata": {},
   "outputs": [
    {
     "data": {
      "text/html": [
       "<div>\n",
       "<style scoped>\n",
       "    .dataframe tbody tr th:only-of-type {\n",
       "        vertical-align: middle;\n",
       "    }\n",
       "\n",
       "    .dataframe tbody tr th {\n",
       "        vertical-align: top;\n",
       "    }\n",
       "\n",
       "    .dataframe thead th {\n",
       "        text-align: right;\n",
       "    }\n",
       "</style>\n",
       "<table border=\"1\" class=\"dataframe\">\n",
       "  <thead>\n",
       "    <tr style=\"text-align: right;\">\n",
       "      <th></th>\n",
       "      <th>Unnamed: 0</th>\n",
       "      <th>id_mail</th>\n",
       "      <th>date</th>\n",
       "      <th>from</th>\n",
       "      <th>to</th>\n",
       "      <th>subject</th>\n",
       "      <th>body</th>\n",
       "      <th>x_origin</th>\n",
       "    </tr>\n",
       "  </thead>\n",
       "  <tbody>\n",
       "    <tr>\n",
       "      <th>0</th>\n",
       "      <td>387118</td>\n",
       "      <td>&lt;20453266.1075858558875.JavaMail.evans@thyme&gt;</td>\n",
       "      <td>2001-09-04 07:36:53-07:00</td>\n",
       "      <td>ryan.ruppert@exxonmobil.com</td>\n",
       "      <td>gerald.nemec@enron.com</td>\n",
       "      <td>Sup?</td>\n",
       "      <td>G,\\n\\nHow was the trip to Longhorn Country?  H...</td>\n",
       "      <td>Nemec-G</td>\n",
       "    </tr>\n",
       "  </tbody>\n",
       "</table>\n",
       "</div>"
      ],
      "text/plain": [
       "   Unnamed: 0                                        id_mail  \\\n",
       "0      387118  <20453266.1075858558875.JavaMail.evans@thyme>   \n",
       "\n",
       "                        date                         from  \\\n",
       "0  2001-09-04 07:36:53-07:00  ryan.ruppert@exxonmobil.com   \n",
       "\n",
       "                       to subject  \\\n",
       "0  gerald.nemec@enron.com    Sup?   \n",
       "\n",
       "                                                body x_origin  \n",
       "0  G,\\n\\nHow was the trip to Longhorn Country?  H...  Nemec-G  "
      ]
     },
     "execution_count": 19,
     "metadata": {},
     "output_type": "execute_result"
    }
   ],
   "source": [
    "email_df = pd.read_csv(\"data/sample.csv\")\n",
    "email_df.head(1)\n",
    "# sent_topics_sorteddf_mallet"
   ]
  },
  {
   "cell_type": "markdown",
   "metadata": {},
   "source": [
    "### VIZ"
   ]
  },
  {
   "cell_type": "code",
   "execution_count": null,
   "metadata": {},
   "outputs": [],
   "source": [
    "\n",
    "pyLDAvis.enable_notebook()\n",
    "LDAvis_data_filepath = os.path.join('./results/ldavis_prepared_'+str(f\"test\"))\n",
    "\n",
    "if 1 == 1:\n",
    "    LDAvis_prepared = pyLDAvis.gensim_models.prepare(lda_model, corpus, id2word)\n",
    "    with open(LDAvis_data_filepath, 'wb') as f:\n",
    "        pickle.dump(LDAvis_prepared, f)\n",
    "\n",
    "with open(LDAvis_data_filepath, 'rb') as f:\n",
    "    LDAvis_prepared = pickle.load(f)\n",
    "\n",
    "pyLDAvis.save_html(LDAvis_prepared, './results/ldavis_prepared_'+ str(f\"test\") +'.html')\n",
    "LDAvis_prepared"
   ]
  }
 ],
 "metadata": {
  "interpreter": {
   "hash": "cc3f249eb8269fe0400e72a0f427e175b24dd81fbe32ee1422536ef70707752a"
  },
  "kernelspec": {
   "display_name": "Python 3.9.10 ('venv': venv)",
   "language": "python",
   "name": "python3"
  },
  "language_info": {
   "codemirror_mode": {
    "name": "ipython",
    "version": 3
   },
   "file_extension": ".py",
   "mimetype": "text/x-python",
   "name": "python",
   "nbconvert_exporter": "python",
   "pygments_lexer": "ipython3",
   "version": "3.9.10"
  },
  "orig_nbformat": 4
 },
 "nbformat": 4,
 "nbformat_minor": 2
}
