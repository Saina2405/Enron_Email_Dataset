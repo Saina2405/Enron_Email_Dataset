{
 "cells": [
  {
   "cell_type": "code",
   "execution_count": 2,
   "metadata": {},
   "outputs": [],
   "source": [
    "import pandas as pd\n",
    "from email.parser import Parser\n",
    "from pathlib import Path"
   ]
  },
  {
   "cell_type": "code",
   "execution_count": 3,
   "metadata": {},
   "outputs": [],
   "source": [
    "import email"
   ]
  },
  {
   "cell_type": "code",
   "execution_count": 4,
   "metadata": {},
   "outputs": [],
   "source": [
    "data = {'id_mail': [],\n",
    "        'date': [],\n",
    "        'from': [],\n",
    "        'to': [],\n",
    "        'subject': [],\n",
    "        'body': [],\n",
    "        'x_origin': [],\n",
    "        }\n",
    "for path in Path('ressources/maildir').rglob('*/all_documents/*'):\n",
    "    with open(path, mode='r', encoding=\"utf-8\", errors=\"replace\") as file:\n",
    "        # print(path, \"\\n\\n***\")\n",
    "\n",
    "        raw_email = Parser().parse(file)\n",
    "        # print(path, \"\\n\\n***\")\n",
    "        # print(raw_email)\n",
    "        data[\"id_mail\"].append(raw_email.get('Message-ID'))\n",
    "        data[\"x_origin\"].append(raw_email.get('X-Origin'))\n",
    "        data[\"from\"].append(raw_email.get('From'))\n",
    "        data[\"to\"].append(raw_email.get('To'))\n",
    "        data[\"subject\"].append(raw_email.get('Subject'))\n",
    "        data[\"date\"].append(raw_email.get('Date'))\n",
    "        data[\"body\"].append(raw_email.get_payload())"
   ]
  },
  {
   "cell_type": "code",
   "execution_count": 5,
   "metadata": {},
   "outputs": [],
   "source": [
    "df = pd.DataFrame(data)"
   ]
  },
  {
   "cell_type": "code",
   "execution_count": 6,
   "metadata": {},
   "outputs": [
    {
     "data": {
      "text/html": [
       "<div>\n",
       "<style scoped>\n",
       "    .dataframe tbody tr th:only-of-type {\n",
       "        vertical-align: middle;\n",
       "    }\n",
       "\n",
       "    .dataframe tbody tr th {\n",
       "        vertical-align: top;\n",
       "    }\n",
       "\n",
       "    .dataframe thead th {\n",
       "        text-align: right;\n",
       "    }\n",
       "</style>\n",
       "<table border=\"1\" class=\"dataframe\">\n",
       "  <thead>\n",
       "    <tr style=\"text-align: right;\">\n",
       "      <th></th>\n",
       "      <th>id_mail</th>\n",
       "      <th>date</th>\n",
       "      <th>from</th>\n",
       "      <th>to</th>\n",
       "      <th>subject</th>\n",
       "      <th>body</th>\n",
       "      <th>x_origin</th>\n",
       "    </tr>\n",
       "  </thead>\n",
       "  <tbody>\n",
       "    <tr>\n",
       "      <th>0</th>\n",
       "      <td>&lt;7452188.1075855667684.JavaMail.evans@thyme&gt;</td>\n",
       "      <td>Mon, 9 Oct 2000 07:16:00 -0700 (PDT)</td>\n",
       "      <td>phillip.allen@enron.com</td>\n",
       "      <td>keith.holst@enron.com</td>\n",
       "      <td>Consolidated positions: Issues &amp; To Do list</td>\n",
       "      <td>---------------------- Forwarded by Phillip K ...</td>\n",
       "      <td>Allen-P</td>\n",
       "    </tr>\n",
       "    <tr>\n",
       "      <th>1</th>\n",
       "      <td>&lt;23790115.1075855667708.JavaMail.evans@thyme&gt;</td>\n",
       "      <td>Mon, 9 Oct 2000 07:00:00 -0700 (PDT)</td>\n",
       "      <td>phillip.allen@enron.com</td>\n",
       "      <td>keith.holst@enron.com</td>\n",
       "      <td>Consolidated positions: Issues &amp; To Do list</td>\n",
       "      <td>---------------------- Forwarded by Phillip K ...</td>\n",
       "      <td>Allen-P</td>\n",
       "    </tr>\n",
       "    <tr>\n",
       "      <th>2</th>\n",
       "      <td>&lt;5860470.1075855667730.JavaMail.evans@thyme&gt;</td>\n",
       "      <td>Thu, 5 Oct 2000 06:26:00 -0700 (PDT)</td>\n",
       "      <td>phillip.allen@enron.com</td>\n",
       "      <td>david.delainey@enron.com</td>\n",
       "      <td></td>\n",
       "      <td>Dave, \\n\\n Here are the names of the west desk...</td>\n",
       "      <td>Allen-P</td>\n",
       "    </tr>\n",
       "    <tr>\n",
       "      <th>3</th>\n",
       "      <td>&lt;14670081.1075855667751.JavaMail.evans@thyme&gt;</td>\n",
       "      <td>Thu, 5 Oct 2000 05:55:00 -0700 (PDT)</td>\n",
       "      <td>phillip.allen@enron.com</td>\n",
       "      <td>paula.harris@enron.com</td>\n",
       "      <td>Re: 2001 Margin Plan</td>\n",
       "      <td>Paula,\\n\\n 35 million is fine\\n\\nPhillip</td>\n",
       "      <td>Allen-P</td>\n",
       "    </tr>\n",
       "    <tr>\n",
       "      <th>4</th>\n",
       "      <td>&lt;2101427.1075855667773.JavaMail.evans@thyme&gt;</td>\n",
       "      <td>Wed, 4 Oct 2000 09:23:00 -0700 (PDT)</td>\n",
       "      <td>phillip.allen@enron.com</td>\n",
       "      <td>ina.rangel@enron.com</td>\n",
       "      <td>Var, Reporting and Resources Meeting</td>\n",
       "      <td>---------------------- Forwarded by Phillip K ...</td>\n",
       "      <td>Allen-P</td>\n",
       "    </tr>\n",
       "  </tbody>\n",
       "</table>\n",
       "</div>"
      ],
      "text/plain": [
       "                                         id_mail  \\\n",
       "0   <7452188.1075855667684.JavaMail.evans@thyme>   \n",
       "1  <23790115.1075855667708.JavaMail.evans@thyme>   \n",
       "2   <5860470.1075855667730.JavaMail.evans@thyme>   \n",
       "3  <14670081.1075855667751.JavaMail.evans@thyme>   \n",
       "4   <2101427.1075855667773.JavaMail.evans@thyme>   \n",
       "\n",
       "                                   date                     from  \\\n",
       "0  Mon, 9 Oct 2000 07:16:00 -0700 (PDT)  phillip.allen@enron.com   \n",
       "1  Mon, 9 Oct 2000 07:00:00 -0700 (PDT)  phillip.allen@enron.com   \n",
       "2  Thu, 5 Oct 2000 06:26:00 -0700 (PDT)  phillip.allen@enron.com   \n",
       "3  Thu, 5 Oct 2000 05:55:00 -0700 (PDT)  phillip.allen@enron.com   \n",
       "4  Wed, 4 Oct 2000 09:23:00 -0700 (PDT)  phillip.allen@enron.com   \n",
       "\n",
       "                         to                                      subject  \\\n",
       "0     keith.holst@enron.com  Consolidated positions: Issues & To Do list   \n",
       "1     keith.holst@enron.com  Consolidated positions: Issues & To Do list   \n",
       "2  david.delainey@enron.com                                                \n",
       "3    paula.harris@enron.com                         Re: 2001 Margin Plan   \n",
       "4      ina.rangel@enron.com         Var, Reporting and Resources Meeting   \n",
       "\n",
       "                                                body x_origin  \n",
       "0  ---------------------- Forwarded by Phillip K ...  Allen-P  \n",
       "1  ---------------------- Forwarded by Phillip K ...  Allen-P  \n",
       "2  Dave, \\n\\n Here are the names of the west desk...  Allen-P  \n",
       "3           Paula,\\n\\n 35 million is fine\\n\\nPhillip  Allen-P  \n",
       "4  ---------------------- Forwarded by Phillip K ...  Allen-P  "
      ]
     },
     "execution_count": 6,
     "metadata": {},
     "output_type": "execute_result"
    }
   ],
   "source": [
    "df.head()"
   ]
  },
  {
   "cell_type": "code",
   "execution_count": 9,
   "metadata": {},
   "outputs": [
    {
     "data": {
      "text/plain": [
       "(128103, 7)"
      ]
     },
     "execution_count": 9,
     "metadata": {},
     "output_type": "execute_result"
    }
   ],
   "source": [
    "df.shape"
   ]
  },
  {
   "cell_type": "code",
   "execution_count": 11,
   "metadata": {},
   "outputs": [],
   "source": [
    "# df.to_csv('data/v2.csv')"
   ]
  },
  {
   "cell_type": "code",
   "execution_count": null,
   "metadata": {},
   "outputs": [],
   "source": []
  }
 ],
 "metadata": {
  "interpreter": {
   "hash": "cc3f249eb8269fe0400e72a0f427e175b24dd81fbe32ee1422536ef70707752a"
  },
  "kernelspec": {
   "display_name": "Python 3 (ipykernel)",
   "language": "python",
   "name": "python3"
  },
  "language_info": {
   "codemirror_mode": {
    "name": "ipython",
    "version": 3
   },
   "file_extension": ".py",
   "mimetype": "text/x-python",
   "name": "python",
   "nbconvert_exporter": "python",
   "pygments_lexer": "ipython3",
   "version": "3.9.2"
  }
 },
 "nbformat": 4,
 "nbformat_minor": 2
}
