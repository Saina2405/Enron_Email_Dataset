{
 "cells": [
  {
   "cell_type": "code",
   "execution_count": 136,
   "metadata": {},
   "outputs": [],
   "source": [
    "import pandas as pd\n",
    "from email.parser import Parser\n",
    "from pathlib import Path"
   ]
  },
  {
   "cell_type": "code",
   "execution_count": 174,
   "metadata": {},
   "outputs": [],
   "source": [
    "data = {'id_mail': [],\n",
    "        'date': [],\n",
    "        'from': [],\n",
    "        'to': [],\n",
    "        'subject': [],\n",
    "        'body': [],\n",
    "        'x_origin': [],\n",
    "        }\n",
    "for path in Path('data').rglob('*/all_documents/*'):\n",
    "    with open(path, mode='r', encoding=\"utf-8\") as file:\n",
    "        raw_email = Parser().parse(file)\n",
    "        data[\"id_mail\"].append(raw_email.get('Message-ID'))\n",
    "        data[\"x_origin\"].append(raw_email.get('X-Origin'))\n",
    "        data[\"from\"].append(raw_email.get('From'))\n",
    "        data[\"to\"].append(raw_email.get('To'))\n",
    "        data[\"subject\"].append(raw_email.get('Subject'))\n",
    "        data[\"date\"].append(raw_email.get('Date'))\n",
    "        data[\"body\"].append(raw_email.get_payload())"
   ]
  },
  {
   "cell_type": "code",
   "execution_count": 175,
   "metadata": {},
   "outputs": [],
   "source": [
    "df = pd.DataFrame(data)"
   ]
  },
  {
   "cell_type": "code",
   "execution_count": 176,
   "metadata": {},
   "outputs": [
    {
     "data": {
      "text/html": [
       "<div>\n",
       "<style scoped>\n",
       "    .dataframe tbody tr th:only-of-type {\n",
       "        vertical-align: middle;\n",
       "    }\n",
       "\n",
       "    .dataframe tbody tr th {\n",
       "        vertical-align: top;\n",
       "    }\n",
       "\n",
       "    .dataframe thead th {\n",
       "        text-align: right;\n",
       "    }\n",
       "</style>\n",
       "<table border=\"1\" class=\"dataframe\">\n",
       "  <thead>\n",
       "    <tr style=\"text-align: right;\">\n",
       "      <th></th>\n",
       "      <th>id_mail</th>\n",
       "      <th>date</th>\n",
       "      <th>from</th>\n",
       "      <th>to</th>\n",
       "      <th>subject</th>\n",
       "      <th>body</th>\n",
       "      <th>x_origin</th>\n",
       "    </tr>\n",
       "  </thead>\n",
       "  <tbody>\n",
       "    <tr>\n",
       "      <th>0</th>\n",
       "      <td>&lt;24597416.1075840072483.JavaMail.evans@thyme&gt;</td>\n",
       "      <td>Fri, 28 Jul 2000 07:02:00 -0700 (PDT)</td>\n",
       "      <td>bill.haack@haack.com</td>\n",
       "      <td>jeff.skilling@enron.com</td>\n",
       "      <td>FW: YPO Area conference dates</td>\n",
       "      <td>Obviously, these dates are for year 2001!\\n\\n&gt;...</td>\n",
       "      <td>SKILLING-J</td>\n",
       "    </tr>\n",
       "    <tr>\n",
       "      <th>1</th>\n",
       "      <td>&lt;22701084.1075845494509.JavaMail.evans@thyme&gt;</td>\n",
       "      <td>Tue, 15 May 2001 06:17:00 -0700 (PDT)</td>\n",
       "      <td>kwhalen@sterlingmccalltoyota.com</td>\n",
       "      <td>jeff.skilling@enron.com</td>\n",
       "      <td>Trainer/Nutritionist</td>\n",
       "      <td>Hello Jeff,\\nHope all is going great in your w...</td>\n",
       "      <td>SKILLING-J</td>\n",
       "    </tr>\n",
       "    <tr>\n",
       "      <th>2</th>\n",
       "      <td>&lt;1071739.1075845490617.JavaMail.evans@thyme&gt;</td>\n",
       "      <td>Wed, 9 May 2001 03:24:00 -0700 (PDT)</td>\n",
       "      <td>mduffey@carriageservices.com</td>\n",
       "      <td>jskilli@enron.com</td>\n",
       "      <td></td>\n",
       "      <td>Jeff,\\n\\n     Thanks again for taking the time...</td>\n",
       "      <td>SKILLING-J</td>\n",
       "    </tr>\n",
       "    <tr>\n",
       "      <th>3</th>\n",
       "      <td>&lt;23406754.1075840076578.JavaMail.evans@thyme&gt;</td>\n",
       "      <td>Mon, 20 Nov 2000 02:04:00 -0800 (PST)</td>\n",
       "      <td>doug.leach@enron.com</td>\n",
       "      <td>jeff.skilling@enron.com</td>\n",
       "      <td>Management Conference</td>\n",
       "      <td>fyi\\n---------------------- Forwarded by Doug ...</td>\n",
       "      <td>SKILLING-J</td>\n",
       "    </tr>\n",
       "    <tr>\n",
       "      <th>4</th>\n",
       "      <td>&lt;17840188.1075845491871.JavaMail.evans@thyme&gt;</td>\n",
       "      <td>Mon, 14 May 2001 03:36:00 -0700 (PDT)</td>\n",
       "      <td>kathy.mcmahon@enron.com</td>\n",
       "      <td>gregory.adams@enron.com, cynthia.barrow@enron....</td>\n",
       "      <td>Invitation</td>\n",
       "      <td>Cindy asked me to forward the attached memo.\\n...</td>\n",
       "      <td>SKILLING-J</td>\n",
       "    </tr>\n",
       "  </tbody>\n",
       "</table>\n",
       "</div>"
      ],
      "text/plain": [
       "                                         id_mail  \\\n",
       "0  <24597416.1075840072483.JavaMail.evans@thyme>   \n",
       "1  <22701084.1075845494509.JavaMail.evans@thyme>   \n",
       "2   <1071739.1075845490617.JavaMail.evans@thyme>   \n",
       "3  <23406754.1075840076578.JavaMail.evans@thyme>   \n",
       "4  <17840188.1075845491871.JavaMail.evans@thyme>   \n",
       "\n",
       "                                    date                              from  \\\n",
       "0  Fri, 28 Jul 2000 07:02:00 -0700 (PDT)              bill.haack@haack.com   \n",
       "1  Tue, 15 May 2001 06:17:00 -0700 (PDT)  kwhalen@sterlingmccalltoyota.com   \n",
       "2   Wed, 9 May 2001 03:24:00 -0700 (PDT)      mduffey@carriageservices.com   \n",
       "3  Mon, 20 Nov 2000 02:04:00 -0800 (PST)              doug.leach@enron.com   \n",
       "4  Mon, 14 May 2001 03:36:00 -0700 (PDT)           kathy.mcmahon@enron.com   \n",
       "\n",
       "                                                  to  \\\n",
       "0                            jeff.skilling@enron.com   \n",
       "1                            jeff.skilling@enron.com   \n",
       "2                                  jskilli@enron.com   \n",
       "3                            jeff.skilling@enron.com   \n",
       "4  gregory.adams@enron.com, cynthia.barrow@enron....   \n",
       "\n",
       "                         subject  \\\n",
       "0  FW: YPO Area conference dates   \n",
       "1           Trainer/Nutritionist   \n",
       "2                                  \n",
       "3          Management Conference   \n",
       "4                     Invitation   \n",
       "\n",
       "                                                body    x_origin  \n",
       "0  Obviously, these dates are for year 2001!\\n\\n>...  SKILLING-J  \n",
       "1  Hello Jeff,\\nHope all is going great in your w...  SKILLING-J  \n",
       "2  Jeff,\\n\\n     Thanks again for taking the time...  SKILLING-J  \n",
       "3  fyi\\n---------------------- Forwarded by Doug ...  SKILLING-J  \n",
       "4  Cindy asked me to forward the attached memo.\\n...  SKILLING-J  "
      ]
     },
     "execution_count": 176,
     "metadata": {},
     "output_type": "execute_result"
    }
   ],
   "source": [
    "df.head()"
   ]
  },
  {
   "cell_type": "code",
   "execution_count": 177,
   "metadata": {},
   "outputs": [
    {
     "data": {
      "text/plain": [
       "(1961, 7)"
      ]
     },
     "execution_count": 177,
     "metadata": {},
     "output_type": "execute_result"
    }
   ],
   "source": [
    "df.shape"
   ]
  },
  {
   "cell_type": "code",
   "execution_count": 179,
   "metadata": {},
   "outputs": [],
   "source": [
    "df.to_csv('data/v1.csv')"
   ]
  },
  {
   "cell_type": "code",
   "execution_count": null,
   "metadata": {},
   "outputs": [],
   "source": []
  }
 ],
 "metadata": {
  "interpreter": {
   "hash": "cc3f249eb8269fe0400e72a0f427e175b24dd81fbe32ee1422536ef70707752a"
  },
  "kernelspec": {
   "display_name": "Python 3.9.10 ('venv': venv)",
   "language": "python",
   "name": "python3"
  },
  "language_info": {
   "codemirror_mode": {
    "name": "ipython",
    "version": 3
   },
   "file_extension": ".py",
   "mimetype": "text/x-python",
   "name": "python",
   "nbconvert_exporter": "python",
   "pygments_lexer": "ipython3",
   "version": "3.9.10"
  },
  "orig_nbformat": 4
 },
 "nbformat": 4,
 "nbformat_minor": 2
}
