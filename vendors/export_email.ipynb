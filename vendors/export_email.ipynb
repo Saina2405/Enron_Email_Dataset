{
 "cells": [
  {
   "cell_type": "code",
   "execution_count": null,
   "metadata": {},
   "outputs": [],
   "source": [
    "import pandas as pd\n",
    "from email.parser import Parser\n",
    "import os\n"
   ]
  },
  {
   "cell_type": "code",
   "execution_count": null,
   "metadata": {},
   "outputs": [],
   "source": [
    "data = {\n",
    "    \"id_mail\": [],\n",
    "    \"date\": [],\n",
    "    \"from\": [],\n",
    "    \"to\": [],\n",
    "    \"subject\": [],\n",
    "    \"body\": [],\n",
    "    \"x_origin\": [],\n",
    "}\n"
   ]
  },
  {
   "cell_type": "code",
   "execution_count": null,
   "metadata": {},
   "outputs": [],
   "source": [
    "for dir, folders, filenames in os.walk(\"raw\"):\n",
    "    for filename in filenames:\n",
    "        files_list = os.path.join(dir, filename)\n",
    "        with open(files_list, mode=\"r\", encoding=\"utf-8\", errors=\"replace\") as file:\n",
    "            raw_email = Parser().parse(file)\n",
    "            data[\"id_mail\"].append(raw_email.get(\"Message-ID\"))\n",
    "            data[\"x_origin\"].append(raw_email.get(\"X-Origin\"))\n",
    "            data[\"from\"].append(raw_email.get(\"From\"))\n",
    "            data[\"to\"].append(raw_email.get(\"To\"))\n",
    "            data[\"subject\"].append(raw_email.get(\"Subject\"))\n",
    "            data[\"date\"].append(raw_email.get(\"Date\"))\n",
    "            data[\"body\"].append(raw_email.get_payload())\n"
   ]
  },
  {
   "cell_type": "code",
   "execution_count": null,
   "metadata": {},
   "outputs": [],
   "source": [
    "df = pd.DataFrame(data)\n"
   ]
  },
  {
   "cell_type": "code",
   "execution_count": null,
   "metadata": {},
   "outputs": [],
   "source": [
    "df.head(1)\n"
   ]
  },
  {
   "cell_type": "code",
   "execution_count": null,
   "metadata": {},
   "outputs": [],
   "source": [
    "df.shape\n"
   ]
  },
  {
   "cell_type": "code",
   "execution_count": null,
   "metadata": {},
   "outputs": [],
   "source": [
    "df[df[\"to\"].isnull()]\n"
   ]
  },
  {
   "cell_type": "code",
   "execution_count": 33,
   "metadata": {},
   "outputs": [],
   "source": [
    "df.to_csv(\"data/raw_mail_all.csv\", index=False)\n"
   ]
  }
 ],
 "metadata": {
  "interpreter": {
   "hash": "cc3f249eb8269fe0400e72a0f427e175b24dd81fbe32ee1422536ef70707752a"
  },
  "kernelspec": {
   "display_name": "Python 3.9.10 ('venv': venv)",
   "language": "python",
   "name": "python3"
  },
  "language_info": {
   "codemirror_mode": {
    "name": "ipython",
    "version": 3
   },
   "file_extension": ".py",
   "mimetype": "text/x-python",
   "name": "python",
   "nbconvert_exporter": "python",
   "pygments_lexer": "ipython3",
   "version": "3.9.10"
  },
  "orig_nbformat": 4
 },
 "nbformat": 4,
 "nbformat_minor": 2
}
